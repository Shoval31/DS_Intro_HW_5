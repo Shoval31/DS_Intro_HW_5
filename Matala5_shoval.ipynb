{
 "cells": [
  {
   "cell_type": "code",
   "execution_count": 3,
   "id": "427d10be",
   "metadata": {},
   "outputs": [],
   "source": [
    "import requests\n",
    "import geocoder\n",
    "import pandas as pd\n",
    "from bs4 import BeautifulSoup\n",
    "url = 'https://maps.googleapis.com/maps/api/geocode/json'\n",
    "data=open(\"C:\\\\Users\\\\shova\\\\Desktop\\\\destinations_LP_crawler_Ex5.csv\")\n",
    "df = pd.read_csv(data)\n",
    "df = df.reset_index() \n",
    "dict={}\n",
    "for index, row in df.iterrows():\n",
    "    address=row['city']\n",
    "    city_LP=row['city_LP']\n",
    "    GOOGLE_GEOCODE_API_KEY = \"\"\n",
    "    result = geocoder.google(address, key=GOOGLE_GEOCODE_API_KEY)\n",
    "    country=result.country_long\n",
    "    if country==\"United States\" or country==\"USA\" :\n",
    "        country='usa'\n",
    "    if country==None:\n",
    "        country='poland'\n",
    "    url2 ='https://www.lonelyplanet.com'+'/'+country+'/'+city_LP\n",
    "    try:\n",
    "        response2=requests.get(url2)\n",
    "        if not response2.status_code == 200:\n",
    "            print('HTTP ERROR', response2.status_code)\n",
    "        else:\n",
    "            try:\n",
    "                result_page = BeautifulSoup(response2.content,'html.parser')\n",
    "            except:\n",
    "                print(\"response not in valid JSON format\")\n",
    "    except:\n",
    "        print(\"Something went wrong with requests.get\")\n",
    "    text=result_page.find_all('div',class_='readMore_content___5EuR relative overflow-hidden max-h-96 is-max wysiwyg')\n",
    "    for item in text:\n",
    "        text=item.get_text()\n",
    "    dict[address] = country,text\n",
    "   \n",
    "\n"
   ]
  },
  {
   "cell_type": "code",
   "execution_count": 4,
   "id": "7d758cee",
   "metadata": {},
   "outputs": [
    {
     "name": "stdout",
     "output_type": "stream",
     "text": [
      "               Country                                        Description\n",
      "City                                                                     \n",
      "Antalya         Turkey  Once seen simply as the gateway to the Turkish...\n",
      "Athens          Greece  With equal measures of grunge and grace, Athen...\n",
      "Ayia-napa       Cyprus  Endless blue-sky days and a coastline riddled ...\n",
      "Bangkok       Thailand  Same same, but different. This Thailish T-shir...\n",
      "Barcelona        Spain  Barcelona is an enchanting seaside city with b...\n",
      "...                ...                                                ...\n",
      "Venice           Italy  Imagine the audacity of building a city of mar...\n",
      "Vienna         Austria  Baroque streetscapes and imperial palaces set ...\n",
      "Warsaw          Poland  A phoenix arisen from the ashes, Poland's capi...\n",
      "Zakynthos       Greece  Zakynthos, also known by its Italian name Zant...\n",
      "Zurich     Switzerland  Culturally vibrant, efficiently run and attrac...\n",
      "\n",
      "[76 rows x 2 columns]\n"
     ]
    }
   ],
   "source": [
    "LP_destinations = pd.DataFrame.from_dict(dict)\n",
    "LP_destinations=LP_destinations.transpose()\n",
    "LP_destinations.columns =['Country', 'Description']\n",
    "index = LP_destinations.index\n",
    "index.name = \"City\"\n",
    "print(LP_destinations)\n",
    "LP_destinations.to_csv(\"C:\\\\Users\\\\shova\\\\Desktop\\\\LP_destinations.csv\", header=True)"
   ]
  },
  {
   "cell_type": "code",
   "execution_count": null,
   "id": "2b385717",
   "metadata": {},
   "outputs": [],
   "source": []
  }
 ],
 "metadata": {
  "kernelspec": {
   "display_name": "Python 3 (ipykernel)",
   "language": "python",
   "name": "python3"
  },
  "language_info": {
   "codemirror_mode": {
    "name": "ipython",
    "version": 3
   },
   "file_extension": ".py",
   "mimetype": "text/x-python",
   "name": "python",
   "nbconvert_exporter": "python",
   "pygments_lexer": "ipython3",
   "version": "3.9.12"
  }
 },
 "nbformat": 4,
 "nbformat_minor": 5
}
